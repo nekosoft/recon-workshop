{
 "cells": [
  {
   "cell_type": "markdown",
   "id": "7194a7a6-560f-4bab-8508-7d171e7023c9",
   "metadata": {
    "tags": []
   },
   "source": [
    "# HTTP CATS!\n",
    "\n",
    "Let's learn about response codes with cats. Visit: https://httpcats.com/"
   ]
  },
  {
   "cell_type": "code",
   "execution_count": null,
   "id": "51db0300-2959-47ae-824c-8a8b125bc084",
   "metadata": {
    "tags": []
   },
   "outputs": [],
   "source": [
    "import requests\n",
    "\n",
    "domain = 'http://google.com'\n",
    "headers         = {\n",
    "    \"User-Agent\": \"Mozilla/5.0 (Macintosh; Intel Mac OS X 10_11_2) AppleWebKit/601.3.9 (KHTML, like Gecko) Version/9.0.2 Safari/601.3.9\"\n",
    "}\n",
    "\n",
    "response = requests.get(domain, headers=headers)\n",
    "\n",
    "response.status_code"
   ]
  },
  {
   "cell_type": "code",
   "execution_count": null,
   "id": "c64166e2-a66c-4d94-8723-f36e3f850cd1",
   "metadata": {
    "tags": []
   },
   "outputs": [],
   "source": [
    "# get a cat from https://httpcats.com/\n",
    "# https://httpcats.com/[code].jpg\n",
    "\n",
    "from IPython import display\n",
    "\n",
    "httpcats = 'https://httpcats.com/' + str(response.status_code) + '.jpg'\n",
    "display.Image(httpcats)"
   ]
  },
  {
   "cell_type": "code",
   "execution_count": null,
   "id": "f665d5bb-72cb-457c-9302-4659eb81cc37",
   "metadata": {},
   "outputs": [],
   "source": []
  }
 ],
 "metadata": {
  "kernelspec": {
   "display_name": "Python 3 (ipykernel)",
   "language": "python",
   "name": "python3"
  },
  "language_info": {
   "codemirror_mode": {
    "name": "ipython",
    "version": 3
   },
   "file_extension": ".py",
   "mimetype": "text/x-python",
   "name": "python",
   "nbconvert_exporter": "python",
   "pygments_lexer": "ipython3",
   "version": "3.9.6"
  }
 },
 "nbformat": 4,
 "nbformat_minor": 5
}
