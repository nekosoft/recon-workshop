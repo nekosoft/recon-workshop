{
 "cells": [
  {
   "cell_type": "markdown",
   "id": "c2e97a63-33c5-4ccb-af60-e7eccb3aed76",
   "metadata": {},
   "source": [
    "## Shodan\n",
    "\n",
    "A search engine for devices and services connected to the internet.\n",
    "\n",
    "https://www.shodan.io/host/210.8.198.46\n",
    "\n",
    "https://www.shodan.io/host/203.222.143.82\n",
    "\n",
    "https://www.shodan.io/host/101.178.238.245\n",
    "\n",
    "\n",
    "Sign up for an account here: https://www.shodan.io/\n",
    "\n",
    "You can search through a limited amount of results without a membership. They occasionally have sales on their lifetime membership (I got mine for $5 USD)"
   ]
  },
  {
   "cell_type": "markdown",
   "id": "7f855dfe-cd93-4aa7-88ab-c2fe18ef08d2",
   "metadata": {},
   "source": [
    "Signed up? Let's find something juicy with these searches:\n",
    "\n",
    "Find the word \"cam\", with a result that includes a screenshot (this means it's public to the world)\n",
    "\n",
    "`cam has_screenshot:true country:\"AU\"`\n",
    "\n",
    "Similar to above but looking for the word \"remote\" such as in Remote Desktop Protocol.\n",
    "- Use a system remotely\n",
    "- Default port: `3389`\n",
    "\n",
    "`remote has_screenshot:true country:\"AU\"`"
   ]
  },
  {
   "cell_type": "markdown",
   "id": "7fb41b76-e57c-4d2a-ad2e-21b055d6c7e2",
   "metadata": {},
   "source": [
    "Try some more queries:\n",
    "    \n",
    "https://www.osintme.com/index.php/2021/01/16/ultimate-osint-with-shodan-100-great-shodan-queries/"
   ]
  },
  {
   "cell_type": "code",
   "execution_count": null,
   "id": "c665d626-d734-41b4-b00c-2eabcfd77723",
   "metadata": {},
   "outputs": [],
   "source": []
  }
 ],
 "metadata": {
  "kernelspec": {
   "display_name": "Python 3 (ipykernel)",
   "language": "python",
   "name": "python3"
  },
  "language_info": {
   "codemirror_mode": {
    "name": "ipython",
    "version": 3
   },
   "file_extension": ".py",
   "mimetype": "text/x-python",
   "name": "python",
   "nbconvert_exporter": "python",
   "pygments_lexer": "ipython3",
   "version": "3.9.6"
  }
 },
 "nbformat": 4,
 "nbformat_minor": 5
}
