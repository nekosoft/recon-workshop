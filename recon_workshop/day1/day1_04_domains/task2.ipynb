{
 "cells": [
  {
   "cell_type": "markdown",
   "id": "5a39e47f-478d-484c-9407-f776cc106385",
   "metadata": {},
   "source": [
    "## Translate this cli command into some code\n",
    "\n",
    "```python\n",
    "curl --request GET \\\n",
    "--url 'https://api.apilayer.com/whois/query?domain=apilayer.com' \\\n",
    "--header 'apikey: YOUR API KEY HERE'\n",
    "```\n"
   ]
  }
 ],
 "metadata": {
  "kernelspec": {
   "display_name": "Python 3 (ipykernel)",
   "language": "python",
   "name": "python3"
  },
  "language_info": {
   "codemirror_mode": {
    "name": "ipython",
    "version": 3
   },
   "file_extension": ".py",
   "mimetype": "text/x-python",
   "name": "python",
   "nbconvert_exporter": "python",
   "pygments_lexer": "ipython3",
   "version": "3.9.6"
  }
 },
 "nbformat": 4,
 "nbformat_minor": 5
}
