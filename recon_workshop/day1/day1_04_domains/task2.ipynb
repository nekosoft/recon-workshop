{
 "cells": [
  {
   "cell_type": "markdown",
   "id": "5a39e47f-478d-484c-9407-f776cc106385",
   "metadata": {},
   "source": [
    "## Translate this cli command into some code\n",
    "\n",
    "We are using the `whois` tool from APILAYER.\n",
    "\n",
    "`https://apilayer.com/marketplace/category/dev-tools`\n",
    "\n",
    "Sign up for an API key.\n",
    "\n",
    "```python\n",
    "curl --request GET \\\n",
    "--url 'https://api.apilayer.com/whois/query?domain=apilayer.com' \\\n",
    "--header 'apikey: YOUR API KEY HERE'\n",
    "```\n"
   ]
  },
  {
   "cell_type": "code",
   "execution_count": null,
   "id": "2de6dba4-0cd3-42e1-96a8-5f1f0040e84c",
   "metadata": {},
   "outputs": [],
   "source": []
  }
 ],
 "metadata": {
  "kernelspec": {
   "display_name": "Python 3 (ipykernel)",
   "language": "python",
   "name": "python3"
  },
  "language_info": {
   "codemirror_mode": {
    "name": "ipython",
    "version": 3
   },
   "file_extension": ".py",
   "mimetype": "text/x-python",
   "name": "python",
   "nbconvert_exporter": "python",
   "pygments_lexer": "ipython3",
   "version": "3.9.6"
  }
 },
 "nbformat": 4,
 "nbformat_minor": 5
}
