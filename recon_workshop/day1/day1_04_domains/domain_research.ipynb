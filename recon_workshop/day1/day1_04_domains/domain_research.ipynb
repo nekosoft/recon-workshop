{
 "cells": [
  {
   "cell_type": "code",
   "execution_count": null,
   "id": "47262ec6-4ccc-4818-a372-4be2934f55a9",
   "metadata": {
    "tags": []
   },
   "outputs": [],
   "source": [
    "%%bash \n",
    "\n",
    "cat top500Domains.csv"
   ]
  },
  {
   "cell_type": "code",
   "execution_count": null,
   "id": "15b64420-bd33-4f2d-961d-e363694ca532",
   "metadata": {
    "tags": []
   },
   "outputs": [],
   "source": [
    "%%bash\n",
    "cut -d, -f2 | tail < top500Domains.csv"
   ]
  },
  {
   "cell_type": "code",
   "execution_count": null,
   "id": "469c7f02-9b8d-4ef9-9d21-250c0832029b",
   "metadata": {
    "tags": []
   },
   "outputs": [],
   "source": [
    "%%bash\n",
    "\n",
    "tail -n +2 top500Domains.csv | cut -d, -f2 | tr -d '\"' > domains_clean.txt"
   ]
  },
  {
   "cell_type": "code",
   "execution_count": null,
   "id": "fd27fe2c-c4c8-4551-a995-7164382efe67",
   "metadata": {
    "tags": []
   },
   "outputs": [],
   "source": [
    "import requests\n",
    "\n",
    "with open('domains_clean.txt', 'r') as domain_file:\n",
    "    for domain in domain_file:\n",
    "        print(domain.strip())"
   ]
  },
  {
   "cell_type": "code",
   "execution_count": null,
   "id": "6a5a3b76-5254-404e-80f8-36137ae2b26b",
   "metadata": {
    "tags": []
   },
   "outputs": [],
   "source": [
    "import requests\n",
    "import json\n",
    "\n",
    "headers={'User-Agent': 'Mozilla/5.0 (Windows NT 10.0; Win64; x64) AppleWebKit/537.36 (KHTML, like Gecko) Chrome/102.0.0.0 Safari/537.36'}\n",
    "\n",
    "domain_research = {}\n",
    "\n",
    "http_protocol = 'http://'\n",
    "https_protocol = 'https://'\n",
    "\n",
    "# with open('domains_clean.txt', 'r') as domain_file:\n",
    "#     for i in range (1,11):\n",
    "#         for domain in domain_file:\n",
    "#             website = http_protocol + domain.strip()\n",
    "#             response = requests.get(website)\n",
    "#             print(\"Result \", i, response.headers)\n",
    "\n",
    "error_domain = 'bp.blogspot.com'\n",
    "domain = 'google.com'\n",
    "\n",
    "test_domain = 'dan.com'\n",
    "            \n",
    "def get_response_from_domain(domain):\n",
    "    http_protocol = 'http://'\n",
    "    try:\n",
    "        response = requests.get(http_protocol + domain, headers=headers, timeout=5)\n",
    "        return response\n",
    "    except requests.ConnectionError as err:\n",
    "        print(\"Error with \", domain, err)\n",
    "    except requests.ReadTimeout as err:\n",
    "        print(\"Error with \", domain, err)\n",
    "    # else:\n",
    "    #     response = requests.get(http_protocol + domain)\n",
    "    #     return response\n",
    "        \n",
    "    \n",
    "# get_response_from_domain(error_domain)\n",
    "# get_response_from_domain(domain)\n",
    "# get_response_from_domain(test_domain)\n",
    "\n",
    "with open('domains_clean.txt', 'r') as domain_file:\n",
    "    for domain in domain_file:\n",
    "        print(\"Getting response for: \", domain) \n",
    "        response = get_response_from_domain(domain.strip())\n",
    "        print(response.headers)\n",
    "        print(\"Finished: \", domain)\n"
   ]
  },
  {
   "cell_type": "code",
   "execution_count": 10,
   "id": "bbec8ab7-e65e-4aba-9bd9-f9b6fe634ee4",
   "metadata": {
    "tags": []
   },
   "outputs": [],
   "source": [
    "import requests\n",
    "import json\n",
    "\n",
    "headers={'User-Agent': 'Mozilla/5.0 (Windows NT 10.0; Win64; x64) AppleWebKit/537.36 (KHTML, like Gecko) Chrome/102.0.0.0 Safari/537.36'}\n",
    "\n",
    "domain_research = {}\n",
    "\n",
    "http_protocol = 'http://'\n",
    "https_protocol = 'https://'\n",
    "\n",
    "error_domain = 'bp.blogspot.com'\n",
    "google_domain = 'google.com'\n",
    "test_domain = 'dan.com'\n",
    "            \n",
    "def get_response_from_domain(domain):\n",
    "    http_protocol = 'http://'\n",
    "    try:\n",
    "        response = requests.get(http_protocol + domain, headers=headers, timeout=5)\n",
    "        return response\n",
    "    except requests.ConnectionError as err:\n",
    "        print(\"Error with \", domain, err)\n",
    "    except requests.ReadTimeout as err:\n",
    "        print(\"Error with \", domain, err)\n",
    "\n",
    "def save_to_object(dictionary, domain, response):\n",
    "    dictionary[domain] = response\n",
    "    return dictionary\n",
    "\n",
    "# domain_research[\"domain.com\"] = \"header response\"\n",
    "# print(domain_research)\n",
    "\n",
    "# get_response_from_domain(error_domain)\n",
    "response = get_response_from_domain(domain)\n",
    "research = save_to_object(domain_research, google_domain, dict(response.headers))\n",
    "# get_response_from_domain(test_domain)\n",
    "\n",
    "# with open('domains_clean.txt', 'r') as domain_file:\n",
    "#     print(\"Starting header calls\")\n",
    "#     for domain in domain_file:\n",
    "#         # print(\"Getting response for: \", domain) \n",
    "#         response = get_response_from_domain(domain.strip())\n",
    "#         # print(response.headers)\n",
    "#         # print(\"Finished: \", domain)\n",
    "        \n",
    "with open('json_data.json', 'w') as outfile:\n",
    "    json.dump(research, outfile)\n",
    "\n",
    "    \n",
    "\n",
    "# print(domain_research)\n"
   ]
  },
  {
   "cell_type": "code",
   "execution_count": null,
   "id": "f7fbdac1-dd0a-4712-b7f7-3a7b1041cd9f",
   "metadata": {},
   "outputs": [],
   "source": []
  }
 ],
 "metadata": {
  "kernelspec": {
   "display_name": "Python 3 (ipykernel)",
   "language": "python",
   "name": "python3"
  },
  "language_info": {
   "codemirror_mode": {
    "name": "ipython",
    "version": 3
   },
   "file_extension": ".py",
   "mimetype": "text/x-python",
   "name": "python",
   "nbconvert_exporter": "python",
   "pygments_lexer": "ipython3",
   "version": "3.9.6"
  }
 },
 "nbformat": 4,
 "nbformat_minor": 5
}
