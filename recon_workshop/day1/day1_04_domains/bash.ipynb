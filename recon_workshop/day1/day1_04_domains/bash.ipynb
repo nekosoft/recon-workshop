{
 "cells": [
  {
   "cell_type": "code",
   "execution_count": 1,
   "id": "df4cae2d-2cfd-4573-aa63-d785f494365b",
   "metadata": {
    "tags": []
   },
   "outputs": [
    {
     "name": "stdout",
     "output_type": "stream",
     "text": [
      "hello world\n"
     ]
    }
   ],
   "source": [
    "%%bash\n",
    "echo hello world"
   ]
  },
  {
   "cell_type": "code",
   "execution_count": 5,
   "id": "e8286d35-e2e1-48a6-a83e-23818b19ba60",
   "metadata": {
    "tags": []
   },
   "outputs": [
    {
     "name": "stdout",
     "output_type": "stream",
     "text": [
      "\"21\",\"bp.blogspot.com\",\"18,089,279\",\"97\"\n"
     ]
    }
   ],
   "source": [
    "%%bash\n",
    "\n",
    "cat top500Domains.csv | grep blogspot"
   ]
  },
  {
   "cell_type": "code",
   "execution_count": null,
   "id": "0c827e7c-761c-4ad3-bfe3-aafb581a89ee",
   "metadata": {},
   "outputs": [],
   "source": []
  }
 ],
 "metadata": {
  "kernelspec": {
   "display_name": "Python 3 (ipykernel)",
   "language": "python",
   "name": "python3"
  },
  "language_info": {
   "codemirror_mode": {
    "name": "ipython",
    "version": 3
   },
   "file_extension": ".py",
   "mimetype": "text/x-python",
   "name": "python",
   "nbconvert_exporter": "python",
   "pygments_lexer": "ipython3",
   "version": "3.9.6"
  }
 },
 "nbformat": 4,
 "nbformat_minor": 5
}
