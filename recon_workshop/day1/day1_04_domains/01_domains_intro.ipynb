{
 "cells": [
  {
   "cell_type": "markdown",
   "id": "ac9d46ce-2d50-4c29-a3d5-c2943d067705",
   "metadata": {},
   "source": [
    "# Domains - Overview\n",
    "\n",
    "## What makes up a domain?"
   ]
  },
  {
   "cell_type": "markdown",
   "id": "219c3f28-6ef5-4c47-b161-0e4cbfa43797",
   "metadata": {},
   "source": [
    "## Why are domains interesting for reconnaissance?\n",
    "\n",
    "- find out more information about who registered the domain\n",
    "- understand the kind of services a company uses\n",
    "- find different technologies\n",
    "- more places to find juicy things\n",
    "- can work out naming conventions\n",
    "- find impersonation and potential phishing sites"
   ]
  },
  {
   "cell_type": "markdown",
   "id": "1916c403-64e8-43eb-9ba7-ede4fd7b77a4",
   "metadata": {},
   "source": [
    "## Potential risks\n",
    "\n",
    "- employees use a personal email address to register a company domain\n",
    "- employees use a company email address to register a personal domain\n",
    "- impersonation sites designed to phish clients\n",
    "- open APIs and data leakage\n",
    "\n",
    "### Finding Juicy Stuff\n",
    "\n",
    "- Shodan\n",
    "- Google dorks\n",
    "- Scans\n",
    "    - ports that are open, which can point us to services and versions of services\n",
    "- verbose error messaging and information\n",
    "- Fingerprinting\n",
    "    - find out technologies and versions of services\n",
    "- Misconfigured services or lax configurations\n",
    "    - default configuration pages, telling us version of services\n",
    "    - exposed admin panels, default admin credentials\n",
    "    \n",
    "#### What do you do if you find something potentially juicy?"
   ]
  },
  {
   "cell_type": "markdown",
   "id": "0cf91253-a116-43e4-aed7-ae5240da78a1",
   "metadata": {},
   "source": [
    "## Map Attack Surface\n",
    "\n",
    "- Sub-domains, hosts and networks\n",
    "- ASN: Autonomous System Number - a very large network or group of networks with a single routing policy\n",
    "    - https://www.cloudflare.com/en-gb/learning/network-layer/what-is-an-autonomous-system/\n",
    "- Query the registrar - whois\n",
    "- Find IP addresses\n"
   ]
  },
  {
   "cell_type": "markdown",
   "id": "e8b3947b-e1c4-41ff-98b0-ff529158a8a9",
   "metadata": {},
   "source": [
    "## Tools and Resources\n",
    "\n",
    "See: `day1_01_intro/intro_recon_lists.ipynb`"
   ]
  },
  {
   "cell_type": "markdown",
   "id": "c076ae07-be7f-4499-b3e0-ded1ef86e75e",
   "metadata": {},
   "source": [
    "## Interesting Ports\n",
    "\n",
    "Services can be configured on a default port, but this is not always the case. Being thorough in a stealthy manner, low and slow, can often yield great results."
   ]
  }
 ],
 "metadata": {
  "kernelspec": {
   "display_name": "Python 3 (ipykernel)",
   "language": "python",
   "name": "python3"
  },
  "language_info": {
   "codemirror_mode": {
    "name": "ipython",
    "version": 3
   },
   "file_extension": ".py",
   "mimetype": "text/x-python",
   "name": "python",
   "nbconvert_exporter": "python",
   "pygments_lexer": "ipython3",
   "version": "3.9.6"
  }
 },
 "nbformat": 4,
 "nbformat_minor": 5
}
