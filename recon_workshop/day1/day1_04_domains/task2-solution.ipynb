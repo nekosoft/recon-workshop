{
 "cells": [
  {
   "cell_type": "markdown",
   "id": "5a39e47f-478d-484c-9407-f776cc106385",
   "metadata": {},
   "source": [
    "## Translate this cli command into some code\n",
    "\n",
    "```python\n",
    "curl --request GET \\\n",
    "--url 'https://api.apilayer.com/whois/query?domain=apilayer.com' \\\n",
    "--header 'apikey: YOUR API KEY HERE'\n",
    "```\n"
   ]
  },
  {
   "cell_type": "code",
   "execution_count": 4,
   "id": "e57f1b87-2181-4b72-af4d-20d5f8308531",
   "metadata": {
    "tags": []
   },
   "outputs": [
    {
     "name": "stdout",
     "output_type": "stream",
     "text": [
      "https://api.apilayer.com/whois/query?domain=google.com\n",
      "{\"result\": {\"domain_name\": \"GOOGLE.COM\", \"registrar\": \"MarkMonitor Inc.\", \"whois_server\": \"whois.markmonitor.com\", \"referral_url\": null, \"updated_date\": \"2019-09-09 15:39:04\", \"creation_date\": \"1997-09-15 04:00:00\", \"expiration_date\": \"2028-09-14 04:00:00\", \"name_servers\": [\"NS1.GOOGLE.COM\", \"NS2.GOOGLE.COM\", \"NS3.GOOGLE.COM\", \"NS4.GOOGLE.COM\"], \"status\": [\"clientDeleteProhibited https://icann.org/epp#clientDeleteProhibited\", \"clientTransferProhibited https://icann.org/epp#clientTransferProhibited\", \"clientUpdateProhibited https://icann.org/epp#clientUpdateProhibited\", \"serverDeleteProhibited https://icann.org/epp#serverDeleteProhibited\", \"serverTransferProhibited https://icann.org/epp#serverTransferProhibited\", \"serverUpdateProhibited https://icann.org/epp#serverUpdateProhibited\"], \"emails\": \"abusecomplaints@markmonitor.com\", \"dnssec\": \"unsigned\", \"name\": null, \"org\": null, \"address\": null, \"city\": null, \"state\": null, \"zipcode\": null, \"country\": null}}\n",
      "\n"
     ]
    }
   ],
   "source": [
    "import os\n",
    "import requests\n",
    "\n",
    "from dotenv import load_dotenv\n",
    "\n",
    "load_dotenv()\n",
    "apilayer_api_key = os.getenv('APILAYER_API_KEY') # whois\n",
    "\n",
    "domain_apilayer = 'https://api.apilayer.com/whois/query?domain='\n",
    "domain_to_whois = 'google.com'\n",
    "\n",
    "headers = {\n",
    "    \"apikey\": apilayer_api_key,\n",
    "    \"User-Agent\": \"Mozilla/5.0 (Macintosh; Intel Mac OS X 10_11_2) AppleWebKit/601.3.9 (KHTML, like Gecko) Version/9.0.2 Safari/601.3.9\"\n",
    "}\n",
    "\n",
    "\n",
    "new_domain = domain_apilayer + domain_to_whois\n",
    "print(new_domain)\n",
    "\n",
    "response = requests.get(new_domain, headers=headers)\n",
    "\n",
    "print(response.text)"
   ]
  },
  {
   "cell_type": "code",
   "execution_count": 14,
   "id": "8ddc81e3-9052-4d82-afef-e5b9ab4bf139",
   "metadata": {},
   "outputs": [
    {
     "name": "stdout",
     "output_type": "stream",
     "text": [
      "{'result': {'domain_name': 'GOOGLE.COM', 'registrar': 'MarkMonitor Inc.', 'whois_server': 'whois.markmonitor.com', 'referral_url': None, 'updated_date': '2019-09-09 15:39:04', 'creation_date': '1997-09-15 04:00:00', 'expiration_date': '2028-09-14 04:00:00', 'name_servers': ['NS1.GOOGLE.COM', 'NS2.GOOGLE.COM', 'NS3.GOOGLE.COM', 'NS4.GOOGLE.COM'], 'status': ['clientDeleteProhibited https://icann.org/epp#clientDeleteProhibited', 'clientTransferProhibited https://icann.org/epp#clientTransferProhibited', 'clientUpdateProhibited https://icann.org/epp#clientUpdateProhibited', 'serverDeleteProhibited https://icann.org/epp#serverDeleteProhibited', 'serverTransferProhibited https://icann.org/epp#serverTransferProhibited', 'serverUpdateProhibited https://icann.org/epp#serverUpdateProhibited'], 'emails': 'abusecomplaints@markmonitor.com', 'dnssec': 'unsigned', 'name': None, 'org': None, 'address': None, 'city': None, 'state': None, 'zipcode': None, 'country': None}}\n"
     ]
    },
    {
     "data": {
      "text/html": [
       "<div>\n",
       "<style scoped>\n",
       "    .dataframe tbody tr th:only-of-type {\n",
       "        vertical-align: middle;\n",
       "    }\n",
       "\n",
       "    .dataframe tbody tr th {\n",
       "        vertical-align: top;\n",
       "    }\n",
       "\n",
       "    .dataframe thead th {\n",
       "        text-align: right;\n",
       "    }\n",
       "</style>\n",
       "<table border=\"1\" class=\"dataframe\">\n",
       "  <thead>\n",
       "    <tr style=\"text-align: right;\">\n",
       "      <th></th>\n",
       "      <th>result.domain_name</th>\n",
       "      <th>result.registrar</th>\n",
       "      <th>result.whois_server</th>\n",
       "      <th>result.referral_url</th>\n",
       "      <th>result.updated_date</th>\n",
       "      <th>result.creation_date</th>\n",
       "      <th>result.expiration_date</th>\n",
       "      <th>result.name_servers</th>\n",
       "      <th>result.status</th>\n",
       "      <th>result.emails</th>\n",
       "      <th>result.dnssec</th>\n",
       "      <th>result.name</th>\n",
       "      <th>result.org</th>\n",
       "      <th>result.address</th>\n",
       "      <th>result.city</th>\n",
       "      <th>result.state</th>\n",
       "      <th>result.zipcode</th>\n",
       "      <th>result.country</th>\n",
       "    </tr>\n",
       "  </thead>\n",
       "  <tbody>\n",
       "    <tr>\n",
       "      <th>0</th>\n",
       "      <td>GOOGLE.COM</td>\n",
       "      <td>MarkMonitor Inc.</td>\n",
       "      <td>whois.markmonitor.com</td>\n",
       "      <td>None</td>\n",
       "      <td>2019-09-09 15:39:04</td>\n",
       "      <td>1997-09-15 04:00:00</td>\n",
       "      <td>2028-09-14 04:00:00</td>\n",
       "      <td>[NS1.GOOGLE.COM, NS2.GOOGLE.COM, NS3.GOOGLE.CO...</td>\n",
       "      <td>[clientDeleteProhibited https://icann.org/epp#...</td>\n",
       "      <td>abusecomplaints@markmonitor.com</td>\n",
       "      <td>unsigned</td>\n",
       "      <td>None</td>\n",
       "      <td>None</td>\n",
       "      <td>None</td>\n",
       "      <td>None</td>\n",
       "      <td>None</td>\n",
       "      <td>None</td>\n",
       "      <td>None</td>\n",
       "    </tr>\n",
       "  </tbody>\n",
       "</table>\n",
       "</div>"
      ],
      "text/plain": [
       "  result.domain_name  result.registrar    result.whois_server   \n",
       "0         GOOGLE.COM  MarkMonitor Inc.  whois.markmonitor.com  \\\n",
       "\n",
       "  result.referral_url  result.updated_date result.creation_date   \n",
       "0                None  2019-09-09 15:39:04  1997-09-15 04:00:00  \\\n",
       "\n",
       "  result.expiration_date                                result.name_servers   \n",
       "0    2028-09-14 04:00:00  [NS1.GOOGLE.COM, NS2.GOOGLE.COM, NS3.GOOGLE.CO...  \\\n",
       "\n",
       "                                       result.status   \n",
       "0  [clientDeleteProhibited https://icann.org/epp#...  \\\n",
       "\n",
       "                     result.emails result.dnssec result.name result.org   \n",
       "0  abusecomplaints@markmonitor.com      unsigned        None       None  \\\n",
       "\n",
       "  result.address result.city result.state result.zipcode result.country  \n",
       "0           None        None         None           None           None  "
      ]
     },
     "execution_count": 14,
     "metadata": {},
     "output_type": "execute_result"
    }
   ],
   "source": [
    "import json\n",
    "\n",
    "import pandas as pd\n",
    "\n",
    "new_response = response.json()\n",
    "print(response.json())\n",
    "# data = json.load(new_response)\n",
    "df = pd.json_normalize(new_response)\n",
    "df"
   ]
  }
 ],
 "metadata": {
  "kernelspec": {
   "display_name": "Python 3 (ipykernel)",
   "language": "python",
   "name": "python3"
  },
  "language_info": {
   "codemirror_mode": {
    "name": "ipython",
    "version": 3
   },
   "file_extension": ".py",
   "mimetype": "text/x-python",
   "name": "python",
   "nbconvert_exporter": "python",
   "pygments_lexer": "ipython3",
   "version": "3.9.6"
  }
 },
 "nbformat": 4,
 "nbformat_minor": 5
}
