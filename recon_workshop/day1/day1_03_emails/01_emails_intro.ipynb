{
 "cells": [
  {
   "cell_type": "markdown",
   "id": "bc5e0639-0724-4efa-8227-45bb0a5b48fb",
   "metadata": {},
   "source": [
    "# What's in an email?\n",
    "\n",
    "- password breaches\n",
    "- registered accounts\n",
    "- domain registrations\n",
    "- inappropriate use of a company email\n",
    "- resources and third parties the company uses"
   ]
  },
  {
   "cell_type": "markdown",
   "id": "89eb144a-edc9-4884-b26f-2b18d20991af",
   "metadata": {},
   "source": [
    "## Where can we find emails?\n",
    "\n",
    "- Search engines: eg. Google, Baidu, Yandex, Bing\n",
    "- Repo sites: eg. GitHub, Bitbucket\n",
    "- Professional and personal social media sites: eg. LinkedIn\n",
    "- Paste sites: eg. Pastebin\n",
    "- Breach sites: eg. HaveIBeenPwned\n",
    "- Code libraries and packages: eg. npm, PyPI\n",
    "- ... be creative!\n",
    "\n",
    "### Reputation of an email\n",
    "\n",
    "_I found this site and it seems trustworthy, pretty neat service. Use at your own risk. API key required, but has free tier._\n",
    "\n",
    "- Email Rep with UI & API: https://emailrep.io/\n",
    "    - API call example: `curl emailrep.io/email@here.com`\n",
    "\n",
    "Read more here: https://www.reddit.com/r/netsec/comments/cmufig/emailrepio_lookup_and_report_suspicious_sender/"
   ]
  },
  {
   "cell_type": "markdown",
   "id": "1047fd9b-1341-4b4f-a9c1-70a3e5ad9f19",
   "metadata": {},
   "source": [
    "## How can we infer an email?\n",
    "\n",
    "We can try guessing an email based on:\n",
    "\n",
    "- found information\n",
    "- previous experience\n",
    "- common patterns\n",
    "\n",
    "So for example, if we have the following information:\n",
    "\n",
    "- Company name: Example\n",
    "- Company website: example.com\n",
    "- Employee name: John Veem\n",
    "\n",
    "We could conclude, or infer, that an email address for John Veem would be:\n",
    "\n",
    "`johnveem@example.com`"
   ]
  },
  {
   "cell_type": "markdown",
   "id": "0fb05de1-7d4e-4023-981c-78a3ac9de778",
   "metadata": {
    "tags": []
   },
   "source": [
    "#### 💜 Activity: Think about companies you've worked at, official communications from brands, or through Google searches - what other patterns of emails can you come up with?"
   ]
  },
  {
   "cell_type": "code",
   "execution_count": null,
   "id": "f447ea04-2568-48b1-ae61-382909c46fd6",
   "metadata": {},
   "outputs": [],
   "source": []
  }
 ],
 "metadata": {
  "kernelspec": {
   "display_name": "Python 3 (ipykernel)",
   "language": "python",
   "name": "python3"
  },
  "language_info": {
   "codemirror_mode": {
    "name": "ipython",
    "version": 3
   },
   "file_extension": ".py",
   "mimetype": "text/x-python",
   "name": "python",
   "nbconvert_exporter": "python",
   "pygments_lexer": "ipython3",
   "version": "3.9.6"
  }
 },
 "nbformat": 4,
 "nbformat_minor": 5
}
