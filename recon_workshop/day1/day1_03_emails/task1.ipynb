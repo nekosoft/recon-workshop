{
 "cells": [
  {
   "cell_type": "markdown",
   "id": "2e9a0a85-f873-4c23-8914-89437f8d0ef4",
   "metadata": {
    "tags": []
   },
   "source": [
    "# Email Coding Activity\n",
    "\n",
    "## Task 1: 🐍 Python Coding Refresher (not comprehensive)\n",
    "\n",
    "Let's start with a refresher. If this feels familiar to you, feel free to move to Task 2"
   ]
  },
  {
   "cell_type": "markdown",
   "id": "f0729bdd-8d36-488c-a117-7eecff3ebe88",
   "metadata": {},
   "source": [
    "### Variables\n",
    "\n",
    "A variable is a piece of memory that holds some information, so that we can then access that information in other parts of our code.\n",
    "\n",
    "On the left side of the equals `=` is the name of the variable: `my_first_parameter`. It is an easy to read name, usually descriptive, and tells us the kind of information we might expect.\n",
    "\n",
    "On the right side of the equals `=` is the value of the variable. This can be a different type, and a type of data can have special meaning. Some common examples include:\n",
    "\n",
    "`int` - integer, a whole number such as 1 or 2 or 104\n",
    "\n",
    "`str` - string, characters that represent text"
   ]
  },
  {
   "cell_type": "code",
   "execution_count": 2,
   "id": "1078d98e-2c7a-411d-9a2d-162bc5fe0953",
   "metadata": {
    "tags": []
   },
   "outputs": [
    {
     "name": "stdout",
     "output_type": "stream",
     "text": [
      "2\n"
     ]
    }
   ],
   "source": [
    "number = 1\n",
    "string = '1'\n",
    "\n",
    "new_number = number + number\n",
    "print(new_number)"
   ]
  },
  {
   "cell_type": "code",
   "execution_count": 5,
   "id": "11f1157f-2998-45fc-884f-9c8242dc8d2b",
   "metadata": {
    "tags": []
   },
   "outputs": [
    {
     "name": "stdout",
     "output_type": "stream",
     "text": [
      "111\n"
     ]
    }
   ],
   "source": [
    "eleven = '11'\n",
    "new_string = eleven + string\n",
    "print(new_string)"
   ]
  },
  {
   "cell_type": "code",
   "execution_count": 7,
   "id": "3eda4748-2faf-410a-99da-0cbc99ee5e89",
   "metadata": {
    "tags": []
   },
   "outputs": [
    {
     "name": "stdout",
     "output_type": "stream",
     "text": [
      "mirandalawson\n"
     ]
    }
   ],
   "source": [
    "# Miranda Lawson\n",
    "\n",
    "first_name = 'Miranda'\n",
    "second_name = 'Lawson'\n",
    "\n",
    "new_name = first_name + second_name\n",
    "print(new_name.lower())"
   ]
  },
  {
   "cell_type": "code",
   "execution_count": 10,
   "id": "1f420c0c-f6bd-418a-aba5-c44c0447e59e",
   "metadata": {
    "tags": []
   },
   "outputs": [
    {
     "name": "stdout",
     "output_type": "stream",
     "text": [
      "mirandalawson@snapchat.com\n"
     ]
    }
   ],
   "source": [
    "# email domain\n",
    "\n",
    "domain = '@snapchat.com'\n",
    "email = new_name.lower()+domain\n",
    "\n",
    "print(email)"
   ]
  },
  {
   "cell_type": "code",
   "execution_count": 11,
   "id": "3386d12e-afec-4421-8498-921ecbde8ccd",
   "metadata": {
    "tags": []
   },
   "outputs": [
    {
     "name": "stdout",
     "output_type": "stream",
     "text": [
      "Value:  1 Type:  <class 'int'>\n",
      "Value:  1 Type:  <class 'str'>\n"
     ]
    }
   ],
   "source": [
    "my_first_parameter = 1\n",
    "my_second_paramater = '1'\n",
    "\n",
    "print('Value: ', my_first_parameter, 'Type: ', type(my_first_parameter))\n",
    "print('Value: ', my_second_paramater, 'Type: ', type(my_second_paramater))"
   ]
  },
  {
   "cell_type": "code",
   "execution_count": 13,
   "id": "bc9980ec-ce17-4285-ae87-3f06d65c8bed",
   "metadata": {
    "tags": []
   },
   "outputs": [
    {
     "ename": "TypeError",
     "evalue": "unsupported operand type(s) for +: 'int' and 'str'",
     "output_type": "error",
     "traceback": [
      "\u001b[0;31m---------------------------------------------------------------------------\u001b[0m",
      "\u001b[0;31mTypeError\u001b[0m                                 Traceback (most recent call last)",
      "Cell \u001b[0;32mIn[13], line 3\u001b[0m\n\u001b[1;32m      1\u001b[0m \u001b[38;5;66;03m# What happens if you add them together?\u001b[39;00m\n\u001b[0;32m----> 3\u001b[0m \u001b[38;5;28mprint\u001b[39m(\u001b[43mmy_first_parameter\u001b[49m\u001b[43m \u001b[49m\u001b[38;5;241;43m+\u001b[39;49m\u001b[43m \u001b[49m\u001b[43mmy_second_paramater\u001b[49m)\n",
      "\u001b[0;31mTypeError\u001b[0m: unsupported operand type(s) for +: 'int' and 'str'"
     ]
    }
   ],
   "source": [
    "# What happens if you add them together?\n",
    "\n",
    "print(my_first_parameter + my_second_paramater)"
   ]
  },
  {
   "cell_type": "markdown",
   "id": "d528082f-1d45-4746-80ad-f6672fce761a",
   "metadata": {},
   "source": [
    "### Parameters\n",
    "\n",
    "A parameter is a piece of data that we give to a function, so that function can then process it further. \n",
    "\n",
    "Create a function that takes a parameter. "
   ]
  },
  {
   "cell_type": "code",
   "execution_count": 18,
   "id": "561839ad-b932-47db-a433-14ea7cff7b4d",
   "metadata": {
    "tags": []
   },
   "outputs": [
    {
     "name": "stdout",
     "output_type": "stream",
     "text": [
      "Hello Yianna\n"
     ]
    }
   ],
   "source": [
    "# Write some code here\n",
    "\n",
    "def greeting(name):\n",
    "    print(\"Hello \" + name)\n",
    "    \n",
    "first_name = 'Yianna'\n",
    "    \n",
    "greeting(first_name)"
   ]
  },
  {
   "cell_type": "markdown",
   "id": "2a85a7d9-50be-45e0-a85c-bfa57809035b",
   "metadata": {},
   "source": [
    "### Loops\n",
    "\n",
    "Loops let us process and do some functionality with code over and over again, based on some conditions we set. We'll look at how they work in the below code."
   ]
  },
  {
   "cell_type": "code",
   "execution_count": 20,
   "id": "4972f162-9c41-4dea-80cd-536392cf69cb",
   "metadata": {
    "tags": []
   },
   "outputs": [
    {
     "name": "stdout",
     "output_type": "stream",
     "text": [
      "3\n",
      "4\n",
      "5\n",
      "6\n",
      "7\n",
      "8\n",
      "9\n"
     ]
    }
   ],
   "source": [
    "for number in range(3,10):\n",
    "    print(number)\n",
    "    \n",
    "# Spot something a little weird?"
   ]
  },
  {
   "cell_type": "markdown",
   "id": "23af5d0c-68d7-4e18-a36b-7aef908fb207",
   "metadata": {},
   "source": [
    "### Define a function so it's easier to call the code we just created\n",
    "\n",
    "Let's put all our code in a function. A function is a bit of code that you can reuse over and over. Give it a descriptive name so you know what it does and it's easy to call (or use).\n",
    "\n",
    "_Tip: Comment your code verbosely when learning something new. You might look back at this in a few months and completely forget what it's doing._"
   ]
  },
  {
   "cell_type": "code",
   "execution_count": 4,
   "id": "99373f59-ebe9-497a-a14e-976fc81df8dc",
   "metadata": {
    "tags": []
   },
   "outputs": [
    {
     "name": "stdout",
     "output_type": "stream",
     "text": [
      "Hello!\n"
     ]
    }
   ],
   "source": [
    "def our_first_function():\n",
    "    print(\"Hello!\")\n",
    "          \n",
    "our_first_function()"
   ]
  },
  {
   "cell_type": "markdown",
   "id": "baf89001-253d-4677-aaa0-a6b7e3c84533",
   "metadata": {},
   "source": [
    "### 🛑 Debugging code: Sometimes we might get an error...\n",
    "\n",
    "Can you spot the error?"
   ]
  },
  {
   "cell_type": "code",
   "execution_count": 12,
   "id": "f421ce0b-b1db-432b-b371-1b76b3f7c1be",
   "metadata": {
    "tags": []
   },
   "outputs": [
    {
     "ename": "SyntaxError",
     "evalue": "unexpected EOF while parsing (3247354413.py, line 7)",
     "output_type": "error",
     "traceback": [
      "\u001b[0;36m  Cell \u001b[0;32mIn[12], line 7\u001b[0;36m\u001b[0m\n\u001b[0;31m    our_second_function(\u001b[0m\n\u001b[0m                        ^\u001b[0m\n\u001b[0;31mSyntaxError\u001b[0m\u001b[0;31m:\u001b[0m unexpected EOF while parsing\n"
     ]
    }
   ],
   "source": [
    "def our_second_function():\n",
    "    # pass is being used as a placeholder for this function, so we can add code\n",
    "    # the interpreter will pass over this function and keep running\n",
    "    # what happens if we remove this?\n",
    "    pass\n",
    "          \n",
    "our_second_function("
   ]
  }
 ],
 "metadata": {
  "kernelspec": {
   "display_name": "Python 3 (ipykernel)",
   "language": "python",
   "name": "python3"
  },
  "language_info": {
   "codemirror_mode": {
    "name": "ipython",
    "version": 3
   },
   "file_extension": ".py",
   "mimetype": "text/x-python",
   "name": "python",
   "nbconvert_exporter": "python",
   "pygments_lexer": "ipython3",
   "version": "3.9.6"
  }
 },
 "nbformat": 4,
 "nbformat_minor": 5
}
