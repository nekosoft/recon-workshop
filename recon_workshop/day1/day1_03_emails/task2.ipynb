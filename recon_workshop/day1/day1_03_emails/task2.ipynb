{
 "cells": [
  {
   "cell_type": "markdown",
   "id": "2e9a0a85-f873-4c23-8914-89437f8d0ef4",
   "metadata": {},
   "source": [
    "# Email Coding Activity\n",
    "\n",
    "## Task 2: Create different email patterns\n",
    "\n",
    "- create some patterns of email addresses\n",
    "- programatically create email permutations\n",
    "\n",
    "A permutation is a set, or all the ways something can be arranged and rearranged."
   ]
  },
  {
   "cell_type": "markdown",
   "id": "86682dc6-21e5-4d01-b6d1-99f222a003a7",
   "metadata": {
    "tags": []
   },
   "source": [
    "## How can we infer an email?\n",
    "\n",
    "We can try guessing an email based on:\n",
    "\n",
    "- found information\n",
    "- previous experience\n",
    "- common patterns\n",
    "\n",
    "So for example, if we have the following information:\n",
    "\n",
    "- Company name: Example\n",
    "- Company website: example.com\n",
    "- Employee name: John Veem\n",
    "\n",
    "We could conclude, or infer, that an email address for John Veem would be:\n",
    "\n",
    "`johnveem@example.com`"
   ]
  },
  {
   "cell_type": "markdown",
   "id": "dc02a254-b249-4da9-b54b-02f8ba707662",
   "metadata": {},
   "source": [
    "#### 💜 Activity: Think about companies you've worked at, official communications from brands, or through Google searches - what other patterns of emails can you come up with? List them, we'll use them in the next exercise."
   ]
  },
  {
   "cell_type": "markdown",
   "id": "7e52d6d5-7adc-479a-a9a4-578d9b2449f9",
   "metadata": {},
   "source": [
    "List the email patterns you have come up with:\n",
    "\n",
    "_Example_\n",
    "\n",
    "- johnveem@example.com\n",
    "- jveem@example.com"
   ]
  },
  {
   "cell_type": "markdown",
   "id": "3f791cb8-7af3-4e90-8da6-a87dccbf4187",
   "metadata": {},
   "source": [
    "### Read names from a file to create email addresses\n",
    "\n",
    "Let's start with the first part of the email, the name:"
   ]
  },
  {
   "cell_type": "code",
   "execution_count": null,
   "id": "55b63764-037d-473d-ad03-0f09df0eb8ce",
   "metadata": {
    "tags": []
   },
   "outputs": [],
   "source": [
    "# This is a comment in Python, you can tell because it starts with a #\n",
    "\n",
    "# Read a file of names, you can add more to the list,\n",
    "# but this code is limited and only works with the first 2 names.\n",
    "# It also doesn't handle different characters like ' or weird situations like a missing line\n",
    "\n",
    "# Can you extend it to accept 3 or 4 names?\n",
    "\n",
    "# Read a file\n",
    "with open('names.txt', 'r') as file:\n",
    "    # This is a \"for\" loop \n",
    "    # for each item in a set of items, do something with it\n",
    "    for index, line in enumerate(file):\n",
    "        # https://python-reference.readthedocs.io/en/latest/docs/str/split.html\n",
    "        # Convert to lowercase to \"normalise\" the information\n",
    "        # Split a line using the space as a default delimeter, add to array\n",
    "        # Example, John Veem = ['john','veem'] (refer to Miro example)\n",
    "        name = line.lower().split()\n",
    "        print(name)\n",
    "        \n",
    "        #johnveem\n",
    "        # permutation = name[0] + name[1]\n",
    "        # print(permutation)\n",
    "        \n",
    "        # jveem\n",
    "        # permutation = name[0][0] + name[1]\n",
    "        # print(permutation)\n",
    "        \n",
    "        # What about veemjohn?\n",
    "        \n",
    "        # Can you add any other patterns?"
   ]
  },
  {
   "cell_type": "markdown",
   "id": "c5306f19-6e44-46ae-8ad4-a8497a676443",
   "metadata": {},
   "source": [
    "#### 💜 Activity: Can you create more complex email patterns using functions?"
   ]
  },
  {
   "cell_type": "code",
   "execution_count": 26,
   "id": "3645b0b0-1452-4107-9f93-ac7aa9beebdb",
   "metadata": {
    "tags": []
   },
   "outputs": [
    {
     "name": "stdout",
     "output_type": "stream",
     "text": [
      "['ashleywilliams@snap.com', 'donkeykong@snap.com', 'garrusvakarian@snap.com', 'kaidanalenko@snap.com', 'laracroft@snap.com', 'mirandalawson@snap.com', 'supermario@snap.com', 'urdnotwrex@snap.com']\n"
     ]
    }
   ],
   "source": [
    "emails = []\n",
    "\n",
    "with open('names.txt', 'r') as file:\n",
    "    for index, line in enumerate(file):\n",
    "        name = line.lower().split()\n",
    "        new_name = name[0] + name[1]\n",
    "        email = new_name + '@snap.com'\n",
    "        emails.append(email)\n",
    "        # print(email)\n",
    "    \n",
    "    # print(emails.sort())\n",
    "\n",
    "emails.sort()\n",
    "\n",
    "print(emails)\n",
    "# with open('names.txt', 'r') as file:        \n",
    "#     for index, line in enumerate(file):  \n",
    "#         name = line.lower().split()\n",
    "#         email_version_2 = name[1] + name[0] + '@snap.com'\n",
    "#         print(email_version_2)\n",
    "        \n",
    "        # email_version_3 = name[0][0] + name[1] + '@snap.com'\n",
    "        # print(email_version_3)"
   ]
  },
  {
   "cell_type": "code",
   "execution_count": null,
   "id": "7e2b9037-6c52-4ef0-aa1c-6db1d2ea15b4",
   "metadata": {},
   "outputs": [],
   "source": []
  }
 ],
 "metadata": {
  "kernelspec": {
   "display_name": "Python 3 (ipykernel)",
   "language": "python",
   "name": "python3"
  },
  "language_info": {
   "codemirror_mode": {
    "name": "ipython",
    "version": 3
   },
   "file_extension": ".py",
   "mimetype": "text/x-python",
   "name": "python",
   "nbconvert_exporter": "python",
   "pygments_lexer": "ipython3",
   "version": "3.9.6"
  }
 },
 "nbformat": 4,
 "nbformat_minor": 5
}
