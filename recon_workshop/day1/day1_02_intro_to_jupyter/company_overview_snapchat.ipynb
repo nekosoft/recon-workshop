{
 "cells": [
  {
   "cell_type": "markdown",
   "id": "7c4a790d-f7c8-4b29-bf35-273bffd9315e",
   "metadata": {},
   "source": [
    "# Snapchat Report"
   ]
  },
  {
   "cell_type": "markdown",
   "id": "83043c7b-dc3f-4e0f-a4b4-4312ae87d19d",
   "metadata": {},
   "source": [
    "## Company Overview\n",
    "\n",
    "This is a report about Snapchat.\n",
    "\n",
    "### IP Addresses"
   ]
  },
  {
   "cell_type": "markdown",
   "id": "7243ece9-aae3-40d3-81ae-9cc2962b622a",
   "metadata": {},
   "source": [
    "### Emails"
   ]
  },
  {
   "cell_type": "markdown",
   "id": "a1747d2b-ae59-4ffc-8e30-60afbbbfdf99",
   "metadata": {},
   "source": [
    "You can write text like this, and it will look like a regular paragraph. We can use underscore signs around text _so that they look italicised_, or asteriks *so that they look bold*. We can _**even combine them!**_"
   ]
  },
  {
   "cell_type": "markdown",
   "id": "f7bc81d5-a774-4552-beb9-e22576f7e3d9",
   "metadata": {},
   "source": [
    "```python\n",
    "def add_number(a+b)\n",
    "    print(add_number())\n",
    "```"
   ]
  },
  {
   "cell_type": "markdown",
   "id": "ae435bd2-ef35-4215-8900-d2a66507acf7",
   "metadata": {},
   "source": [
    "def add_number(a+b)\n",
    "    print(add_number())"
   ]
  },
  {
   "cell_type": "code",
   "execution_count": null,
   "id": "996114af-395c-4a17-9fce-907d5fce16d1",
   "metadata": {},
   "outputs": [],
   "source": []
  }
 ],
 "metadata": {
  "kernelspec": {
   "display_name": "Python 3 (ipykernel)",
   "language": "python",
   "name": "python3"
  },
  "language_info": {
   "codemirror_mode": {
    "name": "ipython",
    "version": 3
   },
   "file_extension": ".py",
   "mimetype": "text/x-python",
   "name": "python",
   "nbconvert_exporter": "python",
   "pygments_lexer": "ipython3",
   "version": "3.9.6"
  }
 },
 "nbformat": 4,
 "nbformat_minor": 5
}
