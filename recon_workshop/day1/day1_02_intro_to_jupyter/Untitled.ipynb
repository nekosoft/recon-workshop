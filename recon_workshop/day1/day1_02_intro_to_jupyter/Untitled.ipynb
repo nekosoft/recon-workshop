{
 "cells": [
  {
   "cell_type": "code",
   "execution_count": null,
   "id": "77a194bd-06aa-4687-aa1a-30c0456d631d",
   "metadata": {},
   "outputs": [],
   "source": [
    "print(\"This is some code\")"
   ]
  },
  {
   "cell_type": "markdown",
   "id": "c12eb01f-95ae-4e52-afe1-c2a017787ba3",
   "metadata": {},
   "source": [
    "# For headings, we use the # sign. Change me to something descriptive like \"Company Profile Report\"\n",
    "\n",
    "You can write text like this, and it will look like a regular paragraph. We can use underscore signs around text _so that they look italicised_, or asteriks *so that they look bold*. We can _*even combine them!*_\n",
    "\n",
    "Let's add some links to each section in a bullet point list.\n",
    "\n",
    "- [Work in Progress](#work-in-progress)\n",
    "- [Company Overview](#company-overview)\n",
    "    - [Second section - rename and link me!](#another-subheading)\n",
    "    \n",
    "## Work in Progress\n",
    "\n",
    "We might want to display things in a little table.\n",
    "\n",
    "| Info Overview | Researched by | Date |\n",
    "| --- | --- | --- |\n",
    "| Company Mergers and Acquisitions | May Daris | 02/03/2023 |\n",
    "\n",
    "## Company Overview\n",
    "\n",
    "### Another subheading\n",
    "\n",
    "#### And another one..."
   ]
  },
  {
   "cell_type": "markdown",
   "id": "04b91e46-7b74-40ad-8a84-4d7f047f4f45",
   "metadata": {
    "tags": []
   },
   "source": [
    "# For headings, we use the # sign. Change me to something descriptive like \"Company Profile Report\"\n",
    "## Subheading\n",
    "### And another\n",
    "#### And more\n",
    "And some plain text\n"
   ]
  },
  {
   "cell_type": "code",
   "execution_count": null,
   "id": "c091bdaa-b697-4fb0-84a8-c6deb1561352",
   "metadata": {},
   "outputs": [],
   "source": []
  }
 ],
 "metadata": {
  "kernelspec": {
   "display_name": "Python 3 (ipykernel)",
   "language": "python",
   "name": "python3"
  },
  "language_info": {
   "codemirror_mode": {
    "name": "ipython",
    "version": 3
   },
   "file_extension": ".py",
   "mimetype": "text/x-python",
   "name": "python",
   "nbconvert_exporter": "python",
   "pygments_lexer": "ipython3",
   "version": "3.9.6"
  }
 },
 "nbformat": 4,
 "nbformat_minor": 5
}
