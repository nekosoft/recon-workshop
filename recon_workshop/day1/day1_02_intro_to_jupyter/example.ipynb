{
 "cells": [
  {
   "cell_type": "code",
   "execution_count": 1,
   "id": "ed34912d-b2d2-4626-89d7-35d5a37d6b15",
   "metadata": {
    "tags": []
   },
   "outputs": [
    {
     "name": "stdout",
     "output_type": "stream",
     "text": [
      "Hello\n"
     ]
    }
   ],
   "source": [
    "print('Hello')"
   ]
  },
  {
   "cell_type": "markdown",
   "id": "4fc04f17-d0f4-40dd-b17c-b193fcdbc004",
   "metadata": {},
   "source": [
    "```\n",
    "print('Hello')\n",
    "```"
   ]
  },
  {
   "cell_type": "markdown",
   "id": "1bf85353-5150-4b28-906b-b955d2089205",
   "metadata": {},
   "source": [
    "```\n",
    "print('Hello')\n",
    "```"
   ]
  },
  {
   "cell_type": "code",
   "execution_count": 2,
   "id": "a171f04c-75e1-4450-bb95-ff5ff91a39cd",
   "metadata": {
    "tags": []
   },
   "outputs": [
    {
     "name": "stdout",
     "output_type": "stream",
     "text": [
      "3\n"
     ]
    }
   ],
   "source": [
    "print(1 + 2)"
   ]
  },
  {
   "cell_type": "code",
   "execution_count": 3,
   "id": "99fd07c7-c42c-4d1d-ad28-2be58e4f8609",
   "metadata": {
    "tags": []
   },
   "outputs": [],
   "source": [
    "my_name = 'Yianna Paris'"
   ]
  },
  {
   "cell_type": "code",
   "execution_count": 4,
   "id": "d5b53297-aaf6-42ba-802c-e0cf5fd871a5",
   "metadata": {
    "tags": []
   },
   "outputs": [
    {
     "name": "stdout",
     "output_type": "stream",
     "text": [
      "Yianna Paris\n"
     ]
    }
   ],
   "source": [
    "print(my_name)"
   ]
  },
  {
   "cell_type": "code",
   "execution_count": null,
   "id": "d2259d95-253a-45da-baeb-f0b385b8f884",
   "metadata": {},
   "outputs": [],
   "source": []
  }
 ],
 "metadata": {
  "kernelspec": {
   "display_name": "Python 3 (ipykernel)",
   "language": "python",
   "name": "python3"
  },
  "language_info": {
   "codemirror_mode": {
    "name": "ipython",
    "version": 3
   },
   "file_extension": ".py",
   "mimetype": "text/x-python",
   "name": "python",
   "nbconvert_exporter": "python",
   "pygments_lexer": "ipython3",
   "version": "3.9.6"
  }
 },
 "nbformat": 4,
 "nbformat_minor": 5
}
