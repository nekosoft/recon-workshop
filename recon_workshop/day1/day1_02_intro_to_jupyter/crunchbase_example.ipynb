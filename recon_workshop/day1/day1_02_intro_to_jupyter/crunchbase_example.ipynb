{
 "cells": [
  {
   "cell_type": "markdown",
   "id": "3af7f358-60ef-4a1f-b7b7-f3c4077a6d8e",
   "metadata": {},
   "source": [
    "# Crunchbase Exercise\n",
    "\n",
    "- call the API\n",
    "- search through results\n",
    "- validating it's the right organisation\n",
    "- getting more information to pivot from"
   ]
  },
  {
   "cell_type": "code",
   "execution_count": null,
   "id": "f3897cf5-14fd-496a-bde7-0315fcc4e5c8",
   "metadata": {
    "tags": []
   },
   "outputs": [],
   "source": [
    "# https://api.crunchbase.com/api/v4/entities/organizations/{permlaink}"
   ]
  },
  {
   "cell_type": "code",
   "execution_count": 8,
   "id": "f4c8c582-4b3f-4fb2-88bf-ac371f441218",
   "metadata": {
    "tags": []
   },
   "outputs": [],
   "source": [
    "import os\n",
    "import requests\n",
    "\n",
    "from dotenv import load_dotenv\n",
    "\n",
    "load_dotenv()\n",
    "key = os.getenv('CRUNCHBASE_API_KEY') # Your crunchbase api\n",
    "org = 'google' # Add an organisation id here\n",
    "\n",
    "# https://requests.readthedocs.io/en/latest/user/quickstart/\n",
    "\n",
    "crunchbase_response = requests.get('https://api.crunchbase.com/api/v4/entities/organizations/' + org + '?user_key=' + key)\n"
   ]
  },
  {
   "cell_type": "code",
   "execution_count": 9,
   "id": "656d3bf5-718c-4271-bfde-e8ae59a9a2f8",
   "metadata": {
    "tags": []
   },
   "outputs": [
    {
     "name": "stdout",
     "output_type": "stream",
     "text": [
      "{'properties': {'identifier': {'uuid': '6acfa7da-1dbd-936e-d985-cf07a1b27711', 'value': 'Google', 'image_id': 'fa8nmvofinznny6rkwvf', 'permalink': 'google', 'entity_def_id': 'organization'}}}\n"
     ]
    }
   ],
   "source": [
    "print(crunchbase_response.json())"
   ]
  },
  {
   "cell_type": "code",
   "execution_count": null,
   "id": "511e9f5a-b685-4cdc-93c4-6ee5d82e5fe0",
   "metadata": {},
   "outputs": [],
   "source": []
  }
 ],
 "metadata": {
  "kernelspec": {
   "display_name": "Python 3 (ipykernel)",
   "language": "python",
   "name": "python3"
  },
  "language_info": {
   "codemirror_mode": {
    "name": "ipython",
    "version": 3
   },
   "file_extension": ".py",
   "mimetype": "text/x-python",
   "name": "python",
   "nbconvert_exporter": "python",
   "pygments_lexer": "ipython3",
   "version": "3.9.6"
  }
 },
 "nbformat": 4,
 "nbformat_minor": 5
}
