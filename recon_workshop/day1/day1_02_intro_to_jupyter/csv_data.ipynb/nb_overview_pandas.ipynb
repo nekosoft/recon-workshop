{
 "cells": [
  {
   "cell_type": "markdown",
   "id": "d62d4f86-c929-4462-9bf3-9ecac3b2a16f",
   "metadata": {
    "tags": []
   },
   "source": [
    "# Introduction to a Notebook\n",
    "\n",
    "1. Navigating the browser-based IDE\n",
    "1. Cells and Cell types\n"
   ]
  },
  {
   "cell_type": "code",
   "execution_count": 1,
   "id": "abaee497-1605-477a-8405-654f3e627b16",
   "metadata": {
    "tags": []
   },
   "outputs": [],
   "source": [
    "import pandas as pd"
   ]
  },
  {
   "cell_type": "code",
   "execution_count": 2,
   "id": "3b417d08-278e-405d-b3e3-766f7378acbd",
   "metadata": {
    "tags": []
   },
   "outputs": [],
   "source": [
    "dataframe = pd.read_csv('./datasets/sample_grades.csv')"
   ]
  },
  {
   "cell_type": "code",
   "execution_count": 3,
   "id": "bca42db1-df37-42bf-9185-b2d6c1b38ecb",
   "metadata": {
    "tags": []
   },
   "outputs": [
    {
     "data": {
      "text/plain": [
       "(40, 7)"
      ]
     },
     "execution_count": 3,
     "metadata": {},
     "output_type": "execute_result"
    }
   ],
   "source": [
    "dataframe.shape"
   ]
  },
  {
   "cell_type": "markdown",
   "id": "e855f248-7b14-46a6-a5ce-4d2a4f96d7ce",
   "metadata": {},
   "source": [
    "## Exploring CSV data\n",
    "\n",
    "`head()` method returns the first 5 rows"
   ]
  },
  {
   "cell_type": "code",
   "execution_count": 4,
   "id": "29108138-f133-46aa-8f15-b8b0fdab2a29",
   "metadata": {
    "tags": []
   },
   "outputs": [
    {
     "data": {
      "text/html": [
       "<div>\n",
       "<style scoped>\n",
       "    .dataframe tbody tr th:only-of-type {\n",
       "        vertical-align: middle;\n",
       "    }\n",
       "\n",
       "    .dataframe tbody tr th {\n",
       "        vertical-align: top;\n",
       "    }\n",
       "\n",
       "    .dataframe thead th {\n",
       "        text-align: right;\n",
       "    }\n",
       "</style>\n",
       "<table border=\"1\" class=\"dataframe\">\n",
       "  <thead>\n",
       "    <tr style=\"text-align: right;\">\n",
       "      <th></th>\n",
       "      <th>Student ID</th>\n",
       "      <th>Gender</th>\n",
       "      <th>Project Phase 1</th>\n",
       "      <th>Project Phase 2</th>\n",
       "      <th>Mid-Semester Test</th>\n",
       "      <th>Final Exam</th>\n",
       "      <th>Grade</th>\n",
       "    </tr>\n",
       "  </thead>\n",
       "  <tbody>\n",
       "    <tr>\n",
       "      <th>0</th>\n",
       "      <td>101</td>\n",
       "      <td>Male</td>\n",
       "      <td>18.25</td>\n",
       "      <td>15.5</td>\n",
       "      <td>94</td>\n",
       "      <td>61.0</td>\n",
       "      <td>PA</td>\n",
       "    </tr>\n",
       "    <tr>\n",
       "      <th>1</th>\n",
       "      <td>102</td>\n",
       "      <td>Female</td>\n",
       "      <td>17.75</td>\n",
       "      <td>30.0</td>\n",
       "      <td>79</td>\n",
       "      <td>62.0</td>\n",
       "      <td>PA</td>\n",
       "    </tr>\n",
       "    <tr>\n",
       "      <th>2</th>\n",
       "      <td>103</td>\n",
       "      <td>Male</td>\n",
       "      <td>0.00</td>\n",
       "      <td>0.0</td>\n",
       "      <td>78</td>\n",
       "      <td>15.0</td>\n",
       "      <td>NN</td>\n",
       "    </tr>\n",
       "    <tr>\n",
       "      <th>3</th>\n",
       "      <td>104</td>\n",
       "      <td>Male</td>\n",
       "      <td>20.00</td>\n",
       "      <td>25.0</td>\n",
       "      <td>69</td>\n",
       "      <td>65.0</td>\n",
       "      <td>PA</td>\n",
       "    </tr>\n",
       "    <tr>\n",
       "      <th>4</th>\n",
       "      <td>105</td>\n",
       "      <td>Male</td>\n",
       "      <td>18.75</td>\n",
       "      <td>30.0</td>\n",
       "      <td>96</td>\n",
       "      <td>51.0</td>\n",
       "      <td>PA</td>\n",
       "    </tr>\n",
       "  </tbody>\n",
       "</table>\n",
       "</div>"
      ],
      "text/plain": [
       "   Student ID  Gender  Project Phase 1  Project Phase 2  Mid-Semester Test   \n",
       "0         101    Male            18.25             15.5                 94  \\\n",
       "1         102  Female            17.75             30.0                 79   \n",
       "2         103    Male             0.00              0.0                 78   \n",
       "3         104    Male            20.00             25.0                 69   \n",
       "4         105    Male            18.75             30.0                 96   \n",
       "\n",
       "   Final Exam Grade  \n",
       "0        61.0    PA  \n",
       "1        62.0    PA  \n",
       "2        15.0    NN  \n",
       "3        65.0    PA  \n",
       "4        51.0    PA  "
      ]
     },
     "execution_count": 4,
     "metadata": {},
     "output_type": "execute_result"
    }
   ],
   "source": [
    "dataframe.head()"
   ]
  },
  {
   "cell_type": "markdown",
   "id": "a78d483c-0aa7-44aa-971d-941ad408c5b9",
   "metadata": {},
   "source": [
    "Define the number of rows you want to return, for example, 3"
   ]
  },
  {
   "cell_type": "code",
   "execution_count": 5,
   "id": "8a5852b8-073e-4f07-aae8-2ea3e847da93",
   "metadata": {
    "tags": []
   },
   "outputs": [
    {
     "data": {
      "text/html": [
       "<div>\n",
       "<style scoped>\n",
       "    .dataframe tbody tr th:only-of-type {\n",
       "        vertical-align: middle;\n",
       "    }\n",
       "\n",
       "    .dataframe tbody tr th {\n",
       "        vertical-align: top;\n",
       "    }\n",
       "\n",
       "    .dataframe thead th {\n",
       "        text-align: right;\n",
       "    }\n",
       "</style>\n",
       "<table border=\"1\" class=\"dataframe\">\n",
       "  <thead>\n",
       "    <tr style=\"text-align: right;\">\n",
       "      <th></th>\n",
       "      <th>Student ID</th>\n",
       "      <th>Gender</th>\n",
       "      <th>Project Phase 1</th>\n",
       "      <th>Project Phase 2</th>\n",
       "      <th>Mid-Semester Test</th>\n",
       "      <th>Final Exam</th>\n",
       "      <th>Grade</th>\n",
       "    </tr>\n",
       "  </thead>\n",
       "  <tbody>\n",
       "    <tr>\n",
       "      <th>0</th>\n",
       "      <td>101</td>\n",
       "      <td>Male</td>\n",
       "      <td>18.25</td>\n",
       "      <td>15.5</td>\n",
       "      <td>94</td>\n",
       "      <td>61.0</td>\n",
       "      <td>PA</td>\n",
       "    </tr>\n",
       "    <tr>\n",
       "      <th>1</th>\n",
       "      <td>102</td>\n",
       "      <td>Female</td>\n",
       "      <td>17.75</td>\n",
       "      <td>30.0</td>\n",
       "      <td>79</td>\n",
       "      <td>62.0</td>\n",
       "      <td>PA</td>\n",
       "    </tr>\n",
       "    <tr>\n",
       "      <th>2</th>\n",
       "      <td>103</td>\n",
       "      <td>Male</td>\n",
       "      <td>0.00</td>\n",
       "      <td>0.0</td>\n",
       "      <td>78</td>\n",
       "      <td>15.0</td>\n",
       "      <td>NN</td>\n",
       "    </tr>\n",
       "  </tbody>\n",
       "</table>\n",
       "</div>"
      ],
      "text/plain": [
       "   Student ID  Gender  Project Phase 1  Project Phase 2  Mid-Semester Test   \n",
       "0         101    Male            18.25             15.5                 94  \\\n",
       "1         102  Female            17.75             30.0                 79   \n",
       "2         103    Male             0.00              0.0                 78   \n",
       "\n",
       "   Final Exam Grade  \n",
       "0        61.0    PA  \n",
       "1        62.0    PA  \n",
       "2        15.0    NN  "
      ]
     },
     "execution_count": 5,
     "metadata": {},
     "output_type": "execute_result"
    }
   ],
   "source": [
    "dataframe.head(3)"
   ]
  },
  {
   "cell_type": "markdown",
   "id": "0f03ac25-a66c-4646-a199-de4c36120dfd",
   "metadata": {},
   "source": [
    "`tail()` prints the last 5 rows"
   ]
  },
  {
   "cell_type": "code",
   "execution_count": 6,
   "id": "5936ec24-1793-405b-862e-5cc359af21bd",
   "metadata": {
    "tags": []
   },
   "outputs": [
    {
     "data": {
      "text/html": [
       "<div>\n",
       "<style scoped>\n",
       "    .dataframe tbody tr th:only-of-type {\n",
       "        vertical-align: middle;\n",
       "    }\n",
       "\n",
       "    .dataframe tbody tr th {\n",
       "        vertical-align: top;\n",
       "    }\n",
       "\n",
       "    .dataframe thead th {\n",
       "        text-align: right;\n",
       "    }\n",
       "</style>\n",
       "<table border=\"1\" class=\"dataframe\">\n",
       "  <thead>\n",
       "    <tr style=\"text-align: right;\">\n",
       "      <th></th>\n",
       "      <th>Student ID</th>\n",
       "      <th>Gender</th>\n",
       "      <th>Project Phase 1</th>\n",
       "      <th>Project Phase 2</th>\n",
       "      <th>Mid-Semester Test</th>\n",
       "      <th>Final Exam</th>\n",
       "      <th>Grade</th>\n",
       "    </tr>\n",
       "  </thead>\n",
       "  <tbody>\n",
       "    <tr>\n",
       "      <th>35</th>\n",
       "      <td>136</td>\n",
       "      <td>Male</td>\n",
       "      <td>18.50</td>\n",
       "      <td>22.0</td>\n",
       "      <td>26</td>\n",
       "      <td>68.0</td>\n",
       "      <td>PA</td>\n",
       "    </tr>\n",
       "    <tr>\n",
       "      <th>36</th>\n",
       "      <td>137</td>\n",
       "      <td>Female</td>\n",
       "      <td>20.00</td>\n",
       "      <td>26.0</td>\n",
       "      <td>89</td>\n",
       "      <td>63.0</td>\n",
       "      <td>PA</td>\n",
       "    </tr>\n",
       "    <tr>\n",
       "      <th>37</th>\n",
       "      <td>138</td>\n",
       "      <td>Male</td>\n",
       "      <td>18.75</td>\n",
       "      <td>30.0</td>\n",
       "      <td>59</td>\n",
       "      <td>52.0</td>\n",
       "      <td>PA</td>\n",
       "    </tr>\n",
       "    <tr>\n",
       "      <th>38</th>\n",
       "      <td>139</td>\n",
       "      <td>Male</td>\n",
       "      <td>19.00</td>\n",
       "      <td>30.0</td>\n",
       "      <td>70</td>\n",
       "      <td>NaN</td>\n",
       "      <td>PA</td>\n",
       "    </tr>\n",
       "    <tr>\n",
       "      <th>39</th>\n",
       "      <td>140</td>\n",
       "      <td>Male</td>\n",
       "      <td>20.00</td>\n",
       "      <td>29.0</td>\n",
       "      <td>84</td>\n",
       "      <td>77.0</td>\n",
       "      <td>PA</td>\n",
       "    </tr>\n",
       "  </tbody>\n",
       "</table>\n",
       "</div>"
      ],
      "text/plain": [
       "    Student ID  Gender  Project Phase 1  Project Phase 2  Mid-Semester Test   \n",
       "35         136    Male            18.50             22.0                 26  \\\n",
       "36         137  Female            20.00             26.0                 89   \n",
       "37         138    Male            18.75             30.0                 59   \n",
       "38         139    Male            19.00             30.0                 70   \n",
       "39         140    Male            20.00             29.0                 84   \n",
       "\n",
       "    Final Exam Grade  \n",
       "35        68.0    PA  \n",
       "36        63.0    PA  \n",
       "37        52.0    PA  \n",
       "38         NaN    PA  \n",
       "39        77.0    PA  "
      ]
     },
     "execution_count": 6,
     "metadata": {},
     "output_type": "execute_result"
    }
   ],
   "source": [
    "dataframe.tail()"
   ]
  },
  {
   "cell_type": "code",
   "execution_count": 7,
   "id": "864edd86-8d5d-45c1-80a8-99e4e76376b8",
   "metadata": {
    "tags": []
   },
   "outputs": [
    {
     "data": {
      "text/html": [
       "<div>\n",
       "<style scoped>\n",
       "    .dataframe tbody tr th:only-of-type {\n",
       "        vertical-align: middle;\n",
       "    }\n",
       "\n",
       "    .dataframe tbody tr th {\n",
       "        vertical-align: top;\n",
       "    }\n",
       "\n",
       "    .dataframe thead th {\n",
       "        text-align: right;\n",
       "    }\n",
       "</style>\n",
       "<table border=\"1\" class=\"dataframe\">\n",
       "  <thead>\n",
       "    <tr style=\"text-align: right;\">\n",
       "      <th></th>\n",
       "      <th>Student ID</th>\n",
       "      <th>Gender</th>\n",
       "      <th>Project Phase 1</th>\n",
       "      <th>Project Phase 2</th>\n",
       "      <th>Mid-Semester Test</th>\n",
       "      <th>Final Exam</th>\n",
       "      <th>Grade</th>\n",
       "    </tr>\n",
       "  </thead>\n",
       "  <tbody>\n",
       "    <tr>\n",
       "      <th>37</th>\n",
       "      <td>138</td>\n",
       "      <td>Male</td>\n",
       "      <td>18.75</td>\n",
       "      <td>30.0</td>\n",
       "      <td>59</td>\n",
       "      <td>52.0</td>\n",
       "      <td>PA</td>\n",
       "    </tr>\n",
       "    <tr>\n",
       "      <th>38</th>\n",
       "      <td>139</td>\n",
       "      <td>Male</td>\n",
       "      <td>19.00</td>\n",
       "      <td>30.0</td>\n",
       "      <td>70</td>\n",
       "      <td>NaN</td>\n",
       "      <td>PA</td>\n",
       "    </tr>\n",
       "    <tr>\n",
       "      <th>39</th>\n",
       "      <td>140</td>\n",
       "      <td>Male</td>\n",
       "      <td>20.00</td>\n",
       "      <td>29.0</td>\n",
       "      <td>84</td>\n",
       "      <td>77.0</td>\n",
       "      <td>PA</td>\n",
       "    </tr>\n",
       "  </tbody>\n",
       "</table>\n",
       "</div>"
      ],
      "text/plain": [
       "    Student ID Gender  Project Phase 1  Project Phase 2  Mid-Semester Test   \n",
       "37         138   Male            18.75             30.0                 59  \\\n",
       "38         139   Male            19.00             30.0                 70   \n",
       "39         140   Male            20.00             29.0                 84   \n",
       "\n",
       "    Final Exam Grade  \n",
       "37        52.0    PA  \n",
       "38         NaN    PA  \n",
       "39        77.0    PA  "
      ]
     },
     "execution_count": 7,
     "metadata": {},
     "output_type": "execute_result"
    }
   ],
   "source": [
    "dataframe.tail(3)"
   ]
  },
  {
   "cell_type": "markdown",
   "id": "4e9b7e5b-d9b7-4365-ae1a-61f7b7ba1d17",
   "metadata": {},
   "source": [
    "Randomly select rows from the data with `sample()`"
   ]
  },
  {
   "cell_type": "code",
   "execution_count": 8,
   "id": "f96ecb75-7d15-4d46-8a40-be894ddc71c6",
   "metadata": {
    "tags": []
   },
   "outputs": [
    {
     "data": {
      "text/html": [
       "<div>\n",
       "<style scoped>\n",
       "    .dataframe tbody tr th:only-of-type {\n",
       "        vertical-align: middle;\n",
       "    }\n",
       "\n",
       "    .dataframe tbody tr th {\n",
       "        vertical-align: top;\n",
       "    }\n",
       "\n",
       "    .dataframe thead th {\n",
       "        text-align: right;\n",
       "    }\n",
       "</style>\n",
       "<table border=\"1\" class=\"dataframe\">\n",
       "  <thead>\n",
       "    <tr style=\"text-align: right;\">\n",
       "      <th></th>\n",
       "      <th>Student ID</th>\n",
       "      <th>Gender</th>\n",
       "      <th>Project Phase 1</th>\n",
       "      <th>Project Phase 2</th>\n",
       "      <th>Mid-Semester Test</th>\n",
       "      <th>Final Exam</th>\n",
       "      <th>Grade</th>\n",
       "    </tr>\n",
       "  </thead>\n",
       "  <tbody>\n",
       "    <tr>\n",
       "      <th>15</th>\n",
       "      <td>116</td>\n",
       "      <td>Female</td>\n",
       "      <td>20.00</td>\n",
       "      <td>25.50</td>\n",
       "      <td>97</td>\n",
       "      <td>52.0</td>\n",
       "      <td>PA</td>\n",
       "    </tr>\n",
       "    <tr>\n",
       "      <th>13</th>\n",
       "      <td>114</td>\n",
       "      <td>Male</td>\n",
       "      <td>20.00</td>\n",
       "      <td>22.75</td>\n",
       "      <td>85</td>\n",
       "      <td>78.0</td>\n",
       "      <td>PA</td>\n",
       "    </tr>\n",
       "    <tr>\n",
       "      <th>28</th>\n",
       "      <td>129</td>\n",
       "      <td>Male</td>\n",
       "      <td>20.00</td>\n",
       "      <td>30.00</td>\n",
       "      <td>64</td>\n",
       "      <td>86.0</td>\n",
       "      <td>PA</td>\n",
       "    </tr>\n",
       "    <tr>\n",
       "      <th>10</th>\n",
       "      <td>111</td>\n",
       "      <td>Female</td>\n",
       "      <td>19.50</td>\n",
       "      <td>13.00</td>\n",
       "      <td>95</td>\n",
       "      <td>52.0</td>\n",
       "      <td>PA</td>\n",
       "    </tr>\n",
       "    <tr>\n",
       "      <th>22</th>\n",
       "      <td>123</td>\n",
       "      <td>Male</td>\n",
       "      <td>19.75</td>\n",
       "      <td>30.00</td>\n",
       "      <td>74</td>\n",
       "      <td>61.0</td>\n",
       "      <td>PA</td>\n",
       "    </tr>\n",
       "  </tbody>\n",
       "</table>\n",
       "</div>"
      ],
      "text/plain": [
       "    Student ID  Gender  Project Phase 1  Project Phase 2  Mid-Semester Test   \n",
       "15         116  Female            20.00            25.50                 97  \\\n",
       "13         114    Male            20.00            22.75                 85   \n",
       "28         129    Male            20.00            30.00                 64   \n",
       "10         111  Female            19.50            13.00                 95   \n",
       "22         123    Male            19.75            30.00                 74   \n",
       "\n",
       "    Final Exam Grade  \n",
       "15        52.0    PA  \n",
       "13        78.0    PA  \n",
       "28        86.0    PA  \n",
       "10        52.0    PA  \n",
       "22        61.0    PA  "
      ]
     },
     "execution_count": 8,
     "metadata": {},
     "output_type": "execute_result"
    }
   ],
   "source": [
    "dataframe.sample(5)"
   ]
  },
  {
   "cell_type": "code",
   "execution_count": 9,
   "id": "6430bd46-c5f4-447e-b3f5-3e1e427279a9",
   "metadata": {
    "tags": []
   },
   "outputs": [
    {
     "data": {
      "text/html": [
       "<div>\n",
       "<style scoped>\n",
       "    .dataframe tbody tr th:only-of-type {\n",
       "        vertical-align: middle;\n",
       "    }\n",
       "\n",
       "    .dataframe tbody tr th {\n",
       "        vertical-align: top;\n",
       "    }\n",
       "\n",
       "    .dataframe thead th {\n",
       "        text-align: right;\n",
       "    }\n",
       "</style>\n",
       "<table border=\"1\" class=\"dataframe\">\n",
       "  <thead>\n",
       "    <tr style=\"text-align: right;\">\n",
       "      <th></th>\n",
       "      <th>Student ID</th>\n",
       "      <th>Gender</th>\n",
       "      <th>Project Phase 1</th>\n",
       "      <th>Project Phase 2</th>\n",
       "      <th>Mid-Semester Test</th>\n",
       "      <th>Final Exam</th>\n",
       "      <th>Grade</th>\n",
       "    </tr>\n",
       "  </thead>\n",
       "  <tbody>\n",
       "    <tr>\n",
       "      <th>6</th>\n",
       "      <td>107</td>\n",
       "      <td>NaN</td>\n",
       "      <td>19.75</td>\n",
       "      <td>19.5</td>\n",
       "      <td>82</td>\n",
       "      <td>76.0</td>\n",
       "      <td>PA</td>\n",
       "    </tr>\n",
       "    <tr>\n",
       "      <th>24</th>\n",
       "      <td>125</td>\n",
       "      <td>NaN</td>\n",
       "      <td>20.00</td>\n",
       "      <td>29.5</td>\n",
       "      <td>70</td>\n",
       "      <td>62.0</td>\n",
       "      <td>PA</td>\n",
       "    </tr>\n",
       "    <tr>\n",
       "      <th>28</th>\n",
       "      <td>129</td>\n",
       "      <td>Male</td>\n",
       "      <td>20.00</td>\n",
       "      <td>30.0</td>\n",
       "      <td>64</td>\n",
       "      <td>86.0</td>\n",
       "      <td>PA</td>\n",
       "    </tr>\n",
       "    <tr>\n",
       "      <th>32</th>\n",
       "      <td>133</td>\n",
       "      <td>F</td>\n",
       "      <td>20.00</td>\n",
       "      <td>28.0</td>\n",
       "      <td>58</td>\n",
       "      <td>74.0</td>\n",
       "      <td>PA</td>\n",
       "    </tr>\n",
       "    <tr>\n",
       "      <th>21</th>\n",
       "      <td>122</td>\n",
       "      <td>Female</td>\n",
       "      <td>20.00</td>\n",
       "      <td>23.0</td>\n",
       "      <td>37</td>\n",
       "      <td>25.0</td>\n",
       "      <td>NN</td>\n",
       "    </tr>\n",
       "  </tbody>\n",
       "</table>\n",
       "</div>"
      ],
      "text/plain": [
       "    Student ID  Gender  Project Phase 1  Project Phase 2  Mid-Semester Test   \n",
       "6          107     NaN            19.75             19.5                 82  \\\n",
       "24         125     NaN            20.00             29.5                 70   \n",
       "28         129    Male            20.00             30.0                 64   \n",
       "32         133       F            20.00             28.0                 58   \n",
       "21         122  Female            20.00             23.0                 37   \n",
       "\n",
       "    Final Exam Grade  \n",
       "6         76.0    PA  \n",
       "24        62.0    PA  \n",
       "28        86.0    PA  \n",
       "32        74.0    PA  \n",
       "21        25.0    NN  "
      ]
     },
     "execution_count": 9,
     "metadata": {},
     "output_type": "execute_result"
    }
   ],
   "source": [
    "dataframe.sample(5, random_state=82)"
   ]
  },
  {
   "cell_type": "code",
   "execution_count": 10,
   "id": "6f315f8f-15eb-4693-93d5-63199d9f691e",
   "metadata": {
    "tags": []
   },
   "outputs": [
    {
     "data": {
      "text/html": [
       "<div>\n",
       "<style scoped>\n",
       "    .dataframe tbody tr th:only-of-type {\n",
       "        vertical-align: middle;\n",
       "    }\n",
       "\n",
       "    .dataframe tbody tr th {\n",
       "        vertical-align: top;\n",
       "    }\n",
       "\n",
       "    .dataframe thead th {\n",
       "        text-align: right;\n",
       "    }\n",
       "</style>\n",
       "<table border=\"1\" class=\"dataframe\">\n",
       "  <thead>\n",
       "    <tr style=\"text-align: right;\">\n",
       "      <th></th>\n",
       "      <th>Student ID</th>\n",
       "      <th>Project Phase 1</th>\n",
       "      <th>Project Phase 2</th>\n",
       "      <th>Mid-Semester Test</th>\n",
       "      <th>Final Exam</th>\n",
       "    </tr>\n",
       "  </thead>\n",
       "  <tbody>\n",
       "    <tr>\n",
       "      <th>count</th>\n",
       "      <td>40.000000</td>\n",
       "      <td>40.000000</td>\n",
       "      <td>37.000000</td>\n",
       "      <td>40.000000</td>\n",
       "      <td>36.000000</td>\n",
       "    </tr>\n",
       "    <tr>\n",
       "      <th>mean</th>\n",
       "      <td>120.500000</td>\n",
       "      <td>16.987500</td>\n",
       "      <td>23.750000</td>\n",
       "      <td>72.100000</td>\n",
       "      <td>56.055556</td>\n",
       "    </tr>\n",
       "    <tr>\n",
       "      <th>std</th>\n",
       "      <td>11.690452</td>\n",
       "      <td>5.964626</td>\n",
       "      <td>7.509716</td>\n",
       "      <td>19.664885</td>\n",
       "      <td>20.520296</td>\n",
       "    </tr>\n",
       "    <tr>\n",
       "      <th>min</th>\n",
       "      <td>101.000000</td>\n",
       "      <td>0.000000</td>\n",
       "      <td>0.000000</td>\n",
       "      <td>26.000000</td>\n",
       "      <td>6.000000</td>\n",
       "    </tr>\n",
       "    <tr>\n",
       "      <th>25%</th>\n",
       "      <td>110.750000</td>\n",
       "      <td>17.687500</td>\n",
       "      <td>20.000000</td>\n",
       "      <td>59.750000</td>\n",
       "      <td>45.500000</td>\n",
       "    </tr>\n",
       "    <tr>\n",
       "      <th>50%</th>\n",
       "      <td>120.500000</td>\n",
       "      <td>19.500000</td>\n",
       "      <td>25.500000</td>\n",
       "      <td>76.000000</td>\n",
       "      <td>60.000000</td>\n",
       "    </tr>\n",
       "    <tr>\n",
       "      <th>75%</th>\n",
       "      <td>130.250000</td>\n",
       "      <td>20.000000</td>\n",
       "      <td>30.000000</td>\n",
       "      <td>86.000000</td>\n",
       "      <td>71.750000</td>\n",
       "    </tr>\n",
       "    <tr>\n",
       "      <th>max</th>\n",
       "      <td>140.000000</td>\n",
       "      <td>20.000000</td>\n",
       "      <td>35.000000</td>\n",
       "      <td>100.000000</td>\n",
       "      <td>91.000000</td>\n",
       "    </tr>\n",
       "  </tbody>\n",
       "</table>\n",
       "</div>"
      ],
      "text/plain": [
       "       Student ID  Project Phase 1  Project Phase 2  Mid-Semester Test   \n",
       "count   40.000000        40.000000        37.000000          40.000000  \\\n",
       "mean   120.500000        16.987500        23.750000          72.100000   \n",
       "std     11.690452         5.964626         7.509716          19.664885   \n",
       "min    101.000000         0.000000         0.000000          26.000000   \n",
       "25%    110.750000        17.687500        20.000000          59.750000   \n",
       "50%    120.500000        19.500000        25.500000          76.000000   \n",
       "75%    130.250000        20.000000        30.000000          86.000000   \n",
       "max    140.000000        20.000000        35.000000         100.000000   \n",
       "\n",
       "       Final Exam  \n",
       "count   36.000000  \n",
       "mean    56.055556  \n",
       "std     20.520296  \n",
       "min      6.000000  \n",
       "25%     45.500000  \n",
       "50%     60.000000  \n",
       "75%     71.750000  \n",
       "max     91.000000  "
      ]
     },
     "execution_count": 10,
     "metadata": {},
     "output_type": "execute_result"
    }
   ],
   "source": [
    "dataframe.describe()"
   ]
  },
  {
   "cell_type": "code",
   "execution_count": 11,
   "id": "15c10096-b370-421a-91ac-b9ee05317e4d",
   "metadata": {
    "tags": []
   },
   "outputs": [
    {
     "data": {
      "text/plain": [
       "Student ID           40\n",
       "Gender               37\n",
       "Project Phase 1      40\n",
       "Project Phase 2      37\n",
       "Mid-Semester Test    40\n",
       "Final Exam           36\n",
       "Grade                40\n",
       "dtype: int64"
      ]
     },
     "execution_count": 11,
     "metadata": {},
     "output_type": "execute_result"
    }
   ],
   "source": [
    "dataframe.count()"
   ]
  },
  {
   "cell_type": "code",
   "execution_count": 13,
   "id": "19adc56f-74c5-418d-8f99-a7996c2f0305",
   "metadata": {
    "tags": []
   },
   "outputs": [],
   "source": [
    "top_500_domains_df = pd.read_csv('./recon_workshop/01_jupyter_notebooks/datasets/top500Domains.csv')"
   ]
  },
  {
   "cell_type": "code",
   "execution_count": 14,
   "id": "b1615fc1-49ea-49ae-98f8-b040c5e7532a",
   "metadata": {
    "tags": []
   },
   "outputs": [
    {
     "data": {
      "text/plain": [
       "Rank                    500\n",
       "Root Domain             500\n",
       "Linking Root Domains    500\n",
       "Domain Authority        500\n",
       "dtype: int64"
      ]
     },
     "execution_count": 14,
     "metadata": {},
     "output_type": "execute_result"
    }
   ],
   "source": [
    "top_500_domains_df.count()"
   ]
  },
  {
   "cell_type": "code",
   "execution_count": 15,
   "id": "3c7a5aa6-e60f-4253-99b1-9a2429ec38ac",
   "metadata": {
    "tags": []
   },
   "outputs": [],
   "source": [
    "domain_series = top_500_domains_df['Root Domain']"
   ]
  },
  {
   "cell_type": "code",
   "execution_count": 16,
   "id": "4aed2961-ddb2-47f7-aa56-efd329f62d9d",
   "metadata": {
    "tags": []
   },
   "outputs": [
    {
     "data": {
      "text/plain": [
       "0       www.blogger.com\n",
       "1           youtube.com\n",
       "2        www.google.com\n",
       "3          linkedin.com\n",
       "4    support.google.com\n",
       "Name: Root Domain, dtype: object"
      ]
     },
     "execution_count": 16,
     "metadata": {},
     "output_type": "execute_result"
    }
   ],
   "source": [
    "domain_series.head()"
   ]
  },
  {
   "cell_type": "code",
   "execution_count": 18,
   "id": "5695f996-ee88-4681-9617-bcfb76c751d8",
   "metadata": {
    "tags": []
   },
   "outputs": [
    {
     "data": {
      "text/plain": [
       "Student ID           0\n",
       "Gender               3\n",
       "Project Phase 1      0\n",
       "Project Phase 2      3\n",
       "Mid-Semester Test    0\n",
       "Final Exam           4\n",
       "Grade                0\n",
       "dtype: int64"
      ]
     },
     "execution_count": 18,
     "metadata": {},
     "output_type": "execute_result"
    }
   ],
   "source": [
    "dataframe.isna().sum()"
   ]
  },
  {
   "cell_type": "code",
   "execution_count": null,
   "id": "64268bdb-76db-41ff-9413-fab773805aee",
   "metadata": {},
   "outputs": [],
   "source": []
  }
 ],
 "metadata": {
  "kernelspec": {
   "display_name": "Python 3 (ipykernel)",
   "language": "python",
   "name": "python3"
  },
  "language_info": {
   "codemirror_mode": {
    "name": "ipython",
    "version": 3
   },
   "file_extension": ".py",
   "mimetype": "text/x-python",
   "name": "python",
   "nbconvert_exporter": "python",
   "pygments_lexer": "ipython3",
   "version": "3.9.6"
  }
 },
 "nbformat": 4,
 "nbformat_minor": 5
}
