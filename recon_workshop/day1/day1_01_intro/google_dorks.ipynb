{
 "cells": [
  {
   "cell_type": "markdown",
   "id": "07d5d96a-b763-44d3-9355-29b0cbe9c29a",
   "metadata": {},
   "source": [
    "# Google Dorks"
   ]
  },
  {
   "cell_type": "markdown",
   "id": "b93fefc2-8a32-4799-b83e-9adf8ca403cf",
   "metadata": {},
   "source": [
    "- inurl:\n",
    "- intitle:\n",
    "- filetype:\n",
    "- ext:\n",
    "- site:\n",
    "\n",
    "\n",
    "Cheat sheet: https://www.stationx.net/google-dorks-cheat-sheet/\n",
    "\n",
    "\n",
    "Create some of your own Google Dorks to help with your Company Overview information gathering."
   ]
  },
  {
   "cell_type": "code",
   "execution_count": null,
   "id": "5f37f275-d3b9-431d-b675-e37c0b245ad1",
   "metadata": {},
   "outputs": [],
   "source": []
  }
 ],
 "metadata": {
  "kernelspec": {
   "display_name": "Python 3 (ipykernel)",
   "language": "python",
   "name": "python3"
  },
  "language_info": {
   "codemirror_mode": {
    "name": "ipython",
    "version": 3
   },
   "file_extension": ".py",
   "mimetype": "text/x-python",
   "name": "python",
   "nbconvert_exporter": "python",
   "pygments_lexer": "ipython3",
   "version": "3.9.6"
  }
 },
 "nbformat": 4,
 "nbformat_minor": 5
}
