{
 "cells": [
  {
   "cell_type": "markdown",
   "id": "c302545b-6931-4a3e-9786-16ab74f547d0",
   "metadata": {
    "tags": []
   },
   "source": [
    "## An approach\n",
    "\n",
    "1. GOAL: How will you document your research? Think about:\n",
    "    - where and what kind of data will you collect\n",
    "    - will you keep copies of this data or rely it'll still be available\n",
    "    - alternative methods to collect data\n",
    "    - notes! record everything!!\n",
    "2. SCOPE: How deep or wide will you go?\n",
    "    - set hard boundaries\n",
    "    - timebox\n",
    "    - prevent getting lost in rabbit holes\n",
    "3. PROCESS: How, Identify your sources\n",
    "4. GATHER: Collect information, this is your data Collection\n",
    "5. ANALYZE: Identify intelligence, Data Processing\n",
    "    - this could include integrating into a tool\n",
    "    - what do you do with personally identifiable information?\n",
    "    - which information do you ingest and which should you clean up before sending or integrating into another system? think about sensitive data such as passports, or passwords\n",
    "6. REPORT: Explain Findings, Results Delivery\n"
   ]
  },
  {
   "cell_type": "code",
   "execution_count": null,
   "id": "2a63efee-6259-444c-9038-51971c7ced44",
   "metadata": {},
   "outputs": [],
   "source": []
  }
 ],
 "metadata": {
  "kernelspec": {
   "display_name": "Python 3 (ipykernel)",
   "language": "python",
   "name": "python3"
  },
  "language_info": {
   "codemirror_mode": {
    "name": "ipython",
    "version": 3
   },
   "file_extension": ".py",
   "mimetype": "text/x-python",
   "name": "python",
   "nbconvert_exporter": "python",
   "pygments_lexer": "ipython3",
   "version": "3.9.6"
  }
 },
 "nbformat": 4,
 "nbformat_minor": 5
}
