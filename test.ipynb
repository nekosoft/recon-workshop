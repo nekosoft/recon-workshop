{
 "cells": [
  {
   "cell_type": "markdown",
   "id": "fd328d20-c008-4cd5-b918-fb3c91fa7b5a",
   "metadata": {},
   "source": [
    "# This is a test file to see if your environment is set up\n",
    "\n",
    "### How to use this:\n",
    "\n",
    "- Go to the top menu and select `Run > Run All Cells`\n",
    "\n",
    "To clear outputs:\n",
    "\n",
    "- `Kernel > Restart Kernel and Clear All Outputs`"
   ]
  },
  {
   "cell_type": "markdown",
   "id": "0ac645d4-6bc9-4eb1-a11f-8893cfa113ef",
   "metadata": {
    "tags": []
   },
   "source": [
    "## Check bash\n",
    "\n",
    "The following cell uses a bash environment. The echo statement should work if it runs correctly, and you'll see \"The bash environment is working.\" printed."
   ]
  },
  {
   "cell_type": "code",
   "execution_count": null,
   "id": "2f20a18c-dd6b-48ac-be95-41cb2470002f",
   "metadata": {
    "tags": []
   },
   "outputs": [],
   "source": [
    "%%bash\n",
    "echo \"The bash environment is working.\""
   ]
  },
  {
   "cell_type": "markdown",
   "id": "0f1f6cde-359e-43c6-8b20-b738ecbc8a52",
   "metadata": {
    "tags": []
   },
   "source": [
    "## Check Python\n",
    "\n",
    "The following cell runs a simple print statement from Python. If Python is not installed correctly, this shouldn't run."
   ]
  },
  {
   "cell_type": "code",
   "execution_count": null,
   "id": "5ad61d72-87b2-48b8-b188-2a0deb839392",
   "metadata": {
    "tags": []
   },
   "outputs": [],
   "source": [
    "print(\"The Python environment is working.\")"
   ]
  },
  {
   "cell_type": "markdown",
   "id": "463f146d-ada0-4d54-9b1a-ba8f35d376f0",
   "metadata": {
    "tags": []
   },
   "source": [
    "## Check matplotlib (Python library)"
   ]
  },
  {
   "cell_type": "code",
   "execution_count": null,
   "id": "6dfbfadd-6a35-4c03-b18f-3a85c12d26aa",
   "metadata": {
    "tags": []
   },
   "outputs": [],
   "source": [
    "%matplotlib"
   ]
  },
  {
   "cell_type": "markdown",
   "id": "f1735ae7-4e45-4787-bc94-eb840b35f321",
   "metadata": {
    "tags": []
   },
   "source": [
    "## Check Pandas (Python library)\n",
    "\n",
    "This should print a bunch of outbut, including:\n",
    "- system info\n",
    "- pandas version\n",
    "- numpy version\n",
    "- pip version\n",
    "- more..."
   ]
  },
  {
   "cell_type": "code",
   "execution_count": null,
   "id": "e3194039-b529-40ac-b927-11c471b89346",
   "metadata": {
    "tags": []
   },
   "outputs": [],
   "source": [
    "import pandas as pd\n",
    "\n",
    "print(pd.show_versions())"
   ]
  }
 ],
 "metadata": {
  "kernelspec": {
   "display_name": "Python 3 (ipykernel)",
   "language": "python",
   "name": "python3"
  },
  "language_info": {
   "codemirror_mode": {
    "name": "ipython",
    "version": 3
   },
   "file_extension": ".py",
   "mimetype": "text/x-python",
   "name": "python",
   "nbconvert_exporter": "python",
   "pygments_lexer": "ipython3",
   "version": "3.9.6"
  }
 },
 "nbformat": 4,
 "nbformat_minor": 5
}
